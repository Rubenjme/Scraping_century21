{
 "cells": [
  {
   "cell_type": "code",
   "execution_count": 7,
   "id": "62a085d6",
   "metadata": {},
   "outputs": [],
   "source": [
    "import requests, re\n",
    "from bs4 import BeautifulSoup\n",
    "import pandas as pd"
   ]
  },
  {
   "cell_type": "code",
   "execution_count": 8,
   "id": "70c20ab7",
   "metadata": {},
   "outputs": [],
   "source": [
    "r=requests.get(\"https://pythonizing.github.io/data/real-estate/rock-springs-wy/LCWYROCKSPRINGS/\")\n",
    "c=r.content\n",
    "\n",
    "soup=BeautifulSoup(c,\"html.parser\")"
   ]
  },
  {
   "cell_type": "markdown",
   "id": "1518b5bc",
   "metadata": {},
   "source": [
    "Necesito conocer la estructura de la web, por lo que lo adecuado es inspeccionarla y a partir de ahí seguir extrayendo datos"
   ]
  },
  {
   "cell_type": "code",
   "execution_count": 9,
   "id": "b22efd43",
   "metadata": {},
   "outputs": [
    {
     "name": "stdout",
     "output_type": "stream",
     "text": [
      "10\n"
     ]
    },
    {
     "data": {
      "text/plain": [
       "<bound method Tag.find_all of <div class=\"propertyRow\" id=\"propertyRowREN021201395\" onclick=\"Track.doEvent('Hybrid Mapping', 'Property Center Lane', 'Select a property with brand REN to view details'); document.location.href='/property/0-gateway-rock-springs-wy-82901-REN021201395';\">\n",
       "<div class=\"CenterLaneCardBg CardWrapper propertyCard\" id=\"propertyREN021201395\">\n",
       "<div class=\"CenterLaneCard propertyCard\">\n",
       "<div class=\"CardThumb\">\n",
       "<div class=\"landscapeThumbContainer\">\n",
       "<a href=\"http://web.archive.org/web/20160127020422/http://www.century21.com/property/0-gateway-rock-springs-wy-82901-REN021201395\"><img class=\"lazyLoad\" rel=\"http://www.century21.com/listhub/thumb/130x90/photos.listhub.net/FCBRWY/20156419/1?lm=20151103T230938\" src=\"./LCWYROCKSPRINGS1_files/1\"/></a>\n",
       "</div>\n",
       "</div>\n",
       "<h4 class=\"propPrice\">\n",
       "\n",
       "\n",
       "            $725,000\n",
       "\n",
       "\n",
       "\n",
       "      <span class=\"IconPropertyFavorite16\"></span>\n",
       "</h4>\n",
       "<div class=\"CardDetails\">\n",
       "<div class=\"primaryDetails\">\n",
       "<span class=\"propAddressCollapse\" title=\"0 Gateway\">0 Gateway</span>\n",
       "<span class=\"propAddressCollapse\">Rock Springs, WY 82901</span>\n",
       "<input name=\"shortCurrency\" type=\"hidden\" value=\"$725K\"/>\n",
       "<input name=\"proplongitude\" type=\"hidden\" value=\"-109.248\"/>\n",
       "<input name=\"proplatitude\" type=\"hidden\" value=\"41.5842\"/>\n",
       "</div>\n",
       "<div class=\"secondaryDetails\">\n",
       "<div class=\"infoLine1\">\n",
       "</div>\n",
       "<div class=\"infoLine2\">\n",
       "</div>\n",
       "</div>\n",
       "<div class=\"secondaryHeader\">\n",
       "         Courtesy Of All Broker Realty\n",
       "\n",
       "      </div>\n",
       "</div>\n",
       "</div>\n",
       "<div class=\"CardActions\">\n",
       "<a class=\"CardPhotoCount\" href=\"http://web.archive.org/web/20160127020422/http://www.century21.com/property/0-gateway-rock-springs-wy-82901-REN021201395\">\n",
       "<span class=\"IconPropertyPhotos16\"></span>\n",
       "\n",
       "      1\n",
       "      Image\n",
       "   </a>\n",
       "<a class=\"propertyAction\" href=\"javascript:void(0);\" onclick=\"Track.doEvent('Hybrid Mapping', 'Property Center Lane', 'Hide a property'); myc21.hideProperty('REN021201395', '#propertyRowREN021201395');c21Helpers.stopEvent(event);\" title=\"Hide\">\n",
       "<span class=\"IconActionHide16\"></span><b>Hide</b>\n",
       "</a>\n",
       "<a class=\"propertyAction\" href=\"javascript:void(0);\" onclick=\"Track.doEvent('Hybrid Mapping', 'Property Center Lane', 'Select Contact regarding property'); modalWindows.openPropertyContact('REN021201395', 'MainSearchProperty', '', 'PRP');c21Helpers.stopEvent(event);\" title=\"Contact\">\n",
       "<span class=\"IconActionContact16\"></span><b>Contact</b>\n",
       "</a>\n",
       "<a class=\"propertyAction removeFavorite\" href=\"javascript:void(0);\" onclick=\"Track.doEvent('Hybrid Mapping', 'Property Center Lane', 'Remove a favorite property'); myc21.unfavoriteProperty('REN021201395', '#propertyREN021201395');c21Helpers.stopEvent(event);\" title=\"Remove Favorite\">\n",
       "<span class=\"IconActionRemoveFavorite16\"></span>Remove Favorite\n",
       "         </a>\n",
       "<a class=\"propertyAction addFavorite\" href=\"javascript:void(0);\" onclick=\"Track.doEvent('Hybrid Mapping', 'Property Center Lane', 'Add a favorite property'); myc21.favoriteProperty('REN021201395', '#propertyREN021201395', '3yd-FCBRWY-20156419');c21Helpers.stopEvent(event);\" title=\"Add to Favorites\">\n",
       "<span class=\"IconActionAddFavorite16\"></span><b>Add as Favorite</b>\n",
       "</a>\n",
       "</div>\n",
       "<div class=\"hiddenListItem\">\n",
       "<a href=\"javascript:void(0);\" onclick=\"Track.doEvent('Hybrid Mapping', 'Property Center Lane', 'Un-Hide a property');myc21.unhideProperty('REN021201395', '#propertyRowREN021201395');c21Helpers.stopEvent(event);\" title=\"0 Gateway, Rock Springs, WY 82901 | $725,000\">\n",
       "<span class=\"IconActionUnhide16\"></span>\n",
       "</a>\n",
       "<a class=\"propAddressHide\" href=\"javascript:void(0);\" onclick=\"Track.doEvent('Hybrid Mapping', 'Property Center Lane', 'Un-Hide a property');myc21.unhideProperty('REN021201395', '#propertyRowREN021201395');c21Helpers.stopEvent(event);\" title=\"0 Gateway, Rock Springs, WY 82901 | $725,000\">\n",
       "      Unhide Property: 0 Gateway, Rock Springs, WY 82901 | $725,000\n",
       "   </a>\n",
       "</div>\n",
       "<div class=\"clear\"></div>\n",
       "</div>\n",
       "<div class=\"propertyDetails\">\n",
       "<div class=\"invisibleFloat\"></div>\n",
       "<div class=\"propertyDetailPhotos\" id=\"propertyRowREN021201395propertyDetailPhotos\">\n",
       "<div class=\"photoFlow last\">\n",
       "<div class=\"landscapeThumbContainer\">\n",
       "<a href=\"http://web.archive.org/web/20160127020422/http://www.century21.com/property/0-gateway-rock-springs-wy-82901-REN021201395?g=0\" title=\"\"><img rel=\"http://www.century21.com/listhub/thumb/130x90/photos.listhub.net/FCBRWY/20156419/1?lm=20151103T230938\" src=\"./LCWYROCKSPRINGS1_files/loadingimage39x30.png\"/></a>\n",
       "</div>\n",
       "</div>\n",
       "<div class=\"propertyMLS\">MLS#\n",
       "\n",
       "                        20156419\n",
       "\n",
       "                  </div>\n",
       "</div>\n",
       "<div class=\"propertyDescription\" id=\"propertyRowREN021201395propertyDescription\">\n",
       "<span class=\"propDescHeader\">PROPERTY DESCRIPTION: </span>\n",
       "<div class=\"propertyDescCollapse collapsed\" expandlink=\"/property/0-gateway-rock-springs-wy-82901-REN021201395\" id=\"propertyRowREN021201395propertyDescCollapse\" style=\"display: block;\"> This Location could be used for almost anything, close to Hospital, Residential, Great possibilities </div>\n",
       "</div>\n",
       "<div class=\"propertyFeatures\" id=\"propertyRowREN021201395propertyFeatures\">\n",
       "<div class=\"ui-column\" style=\"float: left; width: 200px; height: 110px;\"><div class=\"columnGroup propFeatureHeader\">FEATURES:</div><div class=\"columnGroup\">\n",
       "<span class=\"featureGroup\">Architecture Style: </span><span class=\"featureName\">Other</span>\n",
       "</div><div class=\"columnGroup\">\n",
       "<span class=\"featureGroup\">Roof Type: </span><span class=\"featureName\">Unknown</span>\n",
       "</div></div></div>\n",
       "</div>\n",
       "</div>>"
      ]
     },
     "execution_count": 9,
     "metadata": {},
     "output_type": "execute_result"
    }
   ],
   "source": [
    "all = soup.find_all(\"div\", {\"class\": \"propertyRow\"})\n",
    "print(len(all)) # Debe ser 10, que son los resultados que hay en una página\n",
    "\n",
    "all[0].find_all"
   ]
  },
  {
   "cell_type": "code",
   "execution_count": 10,
   "id": "bd3f4ab4",
   "metadata": {},
   "outputs": [
    {
     "data": {
      "text/plain": [
       "[<h4 class=\"propPrice\">\n",
       " \n",
       " \n",
       "             $725,000\n",
       " \n",
       " \n",
       " \n",
       "       <span class=\"IconPropertyFavorite16\"></span>\n",
       " </h4>]"
      ]
     },
     "execution_count": 10,
     "metadata": {},
     "output_type": "execute_result"
    }
   ],
   "source": [
    "all[0].find_all(\"h4\", {\"class\": \"propPrice\"})"
   ]
  },
  {
   "cell_type": "code",
   "execution_count": 11,
   "id": "e6f7c6a6",
   "metadata": {},
   "outputs": [
    {
     "data": {
      "text/plain": [
       "'\\n\\n\\n            $725,000\\n\\n\\n\\n      \\n'"
      ]
     },
     "execution_count": 11,
     "metadata": {},
     "output_type": "execute_result"
    }
   ],
   "source": [
    "all[0].find(\"h4\", {\"class\": \"propPrice\"}).text"
   ]
  },
  {
   "cell_type": "code",
   "execution_count": 12,
   "id": "83097150",
   "metadata": {},
   "outputs": [
    {
     "data": {
      "text/plain": [
       "'$725,000'"
      ]
     },
     "execution_count": 12,
     "metadata": {},
     "output_type": "execute_result"
    }
   ],
   "source": [
    "all[0].find(\"h4\", {\"class\": \"propPrice\"}).text.replace(\"\\n\", \"\").replace(\" \", \"\") \n",
    "# Reemplazo los \\n y los espacios en blanco para que quede solo el precio"
   ]
  },
  {
   "cell_type": "code",
   "execution_count": 13,
   "id": "57e86078",
   "metadata": {},
   "outputs": [],
   "source": [
    "l = []\n",
    "\n",
    "for item in all:\n",
    "    d={} \n",
    "    \n",
    "    d[\"Address\"] = item.find_all(\"span\", {\"class\": \"propAddressCollapse\"})[0].text\n",
    "    d[\"Locality\"] = item.find_all(\"span\", {\"class\": \"propAddressCollapse\"})[1].text\n",
    "    d[\"Price\"] = item.find(\"h4\", {\"class\": \"propPrice\"}).text.replace(\"\\n\", \"\").replace(\" \", \"\")\n",
    "\n",
    "    try:  # Si no hay info sobre las camas no dará error\n",
    "        d[\"Beds\"] = item.find(\"span\", {\"class\": \"infoBed\"}).text\n",
    "        #print(item.find(\"span\", {\"class\": \"infoBed\"}).find(\"b\").text)  # Otra forma de hacerlo\n",
    "    except:\n",
    "        d[\"Beds\"] = None # No hay info sobre las camas, por lo que imprimo None\n",
    "\n",
    "\n",
    "    try:\n",
    "        d[\"Area\"] = item.find(\"span\", {\"class\": \"infoSqFt\"}).find(\"b\").text\n",
    "    except:\n",
    "        d[\"Area\"] = None\n",
    "\n",
    "\n",
    "    try:\n",
    "        d[\"Full Baths\"] = item.find(\"span\", {\"class\": \"infoValueFullBath\"}).find(\"b\").text\n",
    "    except:\n",
    "        d[\"Full Baths\"] = None\n",
    "\n",
    "\n",
    "    try:\n",
    "        d[\"Half Baths\"] = item.find(\"span\", {\"class\": \"infoValueHalfBath\"}).find(\"b\").text\n",
    "    except:\n",
    "        d[\"Half Baths\"] = None\n",
    "    \n",
    "    for column_group in item.find_all(\"div\", {\"class\": \"columnGroup\"}):\n",
    "        for feature_group, feature_name in zip(column_group.find_all(\"span\", {\"class\": \"featureGroup\"}), column_group.find_all(\"span\", {\"class\": \"featureName\"})):\n",
    "            if \"Lot Size\" in feature_group.text:\n",
    "                d[\"Lot Size\"] = feature_name.text\n",
    "\n",
    "\n",
    "    l.append(d)"
   ]
  },
  {
   "cell_type": "code",
   "execution_count": 14,
   "id": "c398c82f",
   "metadata": {},
   "outputs": [
    {
     "name": "stdout",
     "output_type": "stream",
     "text": [
      "10\n",
      "[{'Address': '0 Gateway', 'Locality': 'Rock Springs, WY 82901', 'Price': '$725,000', 'Beds': None, 'Area': None, 'Full Baths': None, 'Half Baths': None}, {'Address': '1003 Winchester Blvd.', 'Locality': 'Rock Springs, WY 82901', 'Price': '$452,900', 'Beds': '4 Beds', 'Area': None, 'Full Baths': '4', 'Half Baths': None, 'Lot Size': '0.21 Acres'}, {'Address': '600 Talladega', 'Locality': 'Rock Springs, WY 82901', 'Price': '$396,900', 'Beds': '5 Beds', 'Area': '3,154', 'Full Baths': '3', 'Half Baths': None}, {'Address': '3239 Spearhead Way', 'Locality': 'Rock Springs, WY 82901', 'Price': '$389,900', 'Beds': '4 Beds', 'Area': '3,076', 'Full Baths': '3', 'Half Baths': '1', 'Lot Size': 'Under 1/2 Acre, '}, {'Address': '522 Emerald Street', 'Locality': 'Rock Springs, WY 82901', 'Price': '$254,000', 'Beds': '3 Beds', 'Area': '1,172', 'Full Baths': '3', 'Half Baths': None, 'Lot Size': 'Under 1/2 Acre, '}, {'Address': \"1302 Veteran's Drive\", 'Locality': 'Rock Springs, WY 82901', 'Price': '$252,900', 'Beds': '4 Beds', 'Area': '1,932', 'Full Baths': '2', 'Half Baths': None, 'Lot Size': '0.27 Acres'}, {'Address': '1021 Cypress Cir', 'Locality': 'Rock Springs, WY 82901', 'Price': '$210,000', 'Beds': '4 Beds', 'Area': '1,676', 'Full Baths': '3', 'Half Baths': None, 'Lot Size': 'Under 1/2 Acre, '}, {'Address': '913 Madison Dr', 'Locality': 'Rock Springs, WY 82901', 'Price': '$209,000', 'Beds': '3 Beds', 'Area': '1,344', 'Full Baths': '2', 'Half Baths': None, 'Lot Size': 'Under 1/2 Acre, '}, {'Address': '1344 Teton Street', 'Locality': 'Rock Springs, WY 82901', 'Price': '$199,900', 'Beds': '3 Beds', 'Area': '1,920', 'Full Baths': '2', 'Half Baths': None, 'Lot Size': 'Under 1/2 Acre, '}, {'Address': '4 Minnies Lane', 'Locality': 'Rock Springs, WY 82901', 'Price': '$196,900', 'Beds': '3 Beds', 'Area': '1,664', 'Full Baths': '2', 'Half Baths': None, 'Lot Size': '2.02 Acres'}]\n"
     ]
    }
   ],
   "source": [
    "print(len(l))\n",
    "print(l)"
   ]
  },
  {
   "cell_type": "code",
   "execution_count": 15,
   "id": "4d83503e",
   "metadata": {},
   "outputs": [
    {
     "data": {
      "text/html": [
       "<div>\n",
       "<style scoped>\n",
       "    .dataframe tbody tr th:only-of-type {\n",
       "        vertical-align: middle;\n",
       "    }\n",
       "\n",
       "    .dataframe tbody tr th {\n",
       "        vertical-align: top;\n",
       "    }\n",
       "\n",
       "    .dataframe thead th {\n",
       "        text-align: right;\n",
       "    }\n",
       "</style>\n",
       "<table border=\"1\" class=\"dataframe\">\n",
       "  <thead>\n",
       "    <tr style=\"text-align: right;\">\n",
       "      <th></th>\n",
       "      <th>Address</th>\n",
       "      <th>Locality</th>\n",
       "      <th>Price</th>\n",
       "      <th>Beds</th>\n",
       "      <th>Area</th>\n",
       "      <th>Full Baths</th>\n",
       "      <th>Half Baths</th>\n",
       "      <th>Lot Size</th>\n",
       "    </tr>\n",
       "  </thead>\n",
       "  <tbody>\n",
       "    <tr>\n",
       "      <th>0</th>\n",
       "      <td>0 Gateway</td>\n",
       "      <td>Rock Springs, WY 82901</td>\n",
       "      <td>$725,000</td>\n",
       "      <td>None</td>\n",
       "      <td>None</td>\n",
       "      <td>None</td>\n",
       "      <td>None</td>\n",
       "      <td>NaN</td>\n",
       "    </tr>\n",
       "    <tr>\n",
       "      <th>1</th>\n",
       "      <td>1003 Winchester Blvd.</td>\n",
       "      <td>Rock Springs, WY 82901</td>\n",
       "      <td>$452,900</td>\n",
       "      <td>4 Beds</td>\n",
       "      <td>None</td>\n",
       "      <td>4</td>\n",
       "      <td>None</td>\n",
       "      <td>0.21 Acres</td>\n",
       "    </tr>\n",
       "    <tr>\n",
       "      <th>2</th>\n",
       "      <td>600 Talladega</td>\n",
       "      <td>Rock Springs, WY 82901</td>\n",
       "      <td>$396,900</td>\n",
       "      <td>5 Beds</td>\n",
       "      <td>3,154</td>\n",
       "      <td>3</td>\n",
       "      <td>None</td>\n",
       "      <td>NaN</td>\n",
       "    </tr>\n",
       "    <tr>\n",
       "      <th>3</th>\n",
       "      <td>3239 Spearhead Way</td>\n",
       "      <td>Rock Springs, WY 82901</td>\n",
       "      <td>$389,900</td>\n",
       "      <td>4 Beds</td>\n",
       "      <td>3,076</td>\n",
       "      <td>3</td>\n",
       "      <td>1</td>\n",
       "      <td>Under 1/2 Acre,</td>\n",
       "    </tr>\n",
       "    <tr>\n",
       "      <th>4</th>\n",
       "      <td>522 Emerald Street</td>\n",
       "      <td>Rock Springs, WY 82901</td>\n",
       "      <td>$254,000</td>\n",
       "      <td>3 Beds</td>\n",
       "      <td>1,172</td>\n",
       "      <td>3</td>\n",
       "      <td>None</td>\n",
       "      <td>Under 1/2 Acre,</td>\n",
       "    </tr>\n",
       "    <tr>\n",
       "      <th>5</th>\n",
       "      <td>1302 Veteran's Drive</td>\n",
       "      <td>Rock Springs, WY 82901</td>\n",
       "      <td>$252,900</td>\n",
       "      <td>4 Beds</td>\n",
       "      <td>1,932</td>\n",
       "      <td>2</td>\n",
       "      <td>None</td>\n",
       "      <td>0.27 Acres</td>\n",
       "    </tr>\n",
       "    <tr>\n",
       "      <th>6</th>\n",
       "      <td>1021 Cypress Cir</td>\n",
       "      <td>Rock Springs, WY 82901</td>\n",
       "      <td>$210,000</td>\n",
       "      <td>4 Beds</td>\n",
       "      <td>1,676</td>\n",
       "      <td>3</td>\n",
       "      <td>None</td>\n",
       "      <td>Under 1/2 Acre,</td>\n",
       "    </tr>\n",
       "    <tr>\n",
       "      <th>7</th>\n",
       "      <td>913 Madison Dr</td>\n",
       "      <td>Rock Springs, WY 82901</td>\n",
       "      <td>$209,000</td>\n",
       "      <td>3 Beds</td>\n",
       "      <td>1,344</td>\n",
       "      <td>2</td>\n",
       "      <td>None</td>\n",
       "      <td>Under 1/2 Acre,</td>\n",
       "    </tr>\n",
       "    <tr>\n",
       "      <th>8</th>\n",
       "      <td>1344 Teton Street</td>\n",
       "      <td>Rock Springs, WY 82901</td>\n",
       "      <td>$199,900</td>\n",
       "      <td>3 Beds</td>\n",
       "      <td>1,920</td>\n",
       "      <td>2</td>\n",
       "      <td>None</td>\n",
       "      <td>Under 1/2 Acre,</td>\n",
       "    </tr>\n",
       "    <tr>\n",
       "      <th>9</th>\n",
       "      <td>4 Minnies Lane</td>\n",
       "      <td>Rock Springs, WY 82901</td>\n",
       "      <td>$196,900</td>\n",
       "      <td>3 Beds</td>\n",
       "      <td>1,664</td>\n",
       "      <td>2</td>\n",
       "      <td>None</td>\n",
       "      <td>2.02 Acres</td>\n",
       "    </tr>\n",
       "  </tbody>\n",
       "</table>\n",
       "</div>"
      ],
      "text/plain": [
       "                 Address                Locality     Price    Beds   Area  \\\n",
       "0              0 Gateway  Rock Springs, WY 82901  $725,000    None   None   \n",
       "1  1003 Winchester Blvd.  Rock Springs, WY 82901  $452,900  4 Beds   None   \n",
       "2          600 Talladega  Rock Springs, WY 82901  $396,900  5 Beds  3,154   \n",
       "3     3239 Spearhead Way  Rock Springs, WY 82901  $389,900  4 Beds  3,076   \n",
       "4     522 Emerald Street  Rock Springs, WY 82901  $254,000  3 Beds  1,172   \n",
       "5   1302 Veteran's Drive  Rock Springs, WY 82901  $252,900  4 Beds  1,932   \n",
       "6       1021 Cypress Cir  Rock Springs, WY 82901  $210,000  4 Beds  1,676   \n",
       "7         913 Madison Dr  Rock Springs, WY 82901  $209,000  3 Beds  1,344   \n",
       "8      1344 Teton Street  Rock Springs, WY 82901  $199,900  3 Beds  1,920   \n",
       "9         4 Minnies Lane  Rock Springs, WY 82901  $196,900  3 Beds  1,664   \n",
       "\n",
       "  Full Baths Half Baths          Lot Size  \n",
       "0       None       None               NaN  \n",
       "1          4       None        0.21 Acres  \n",
       "2          3       None               NaN  \n",
       "3          3          1  Under 1/2 Acre,   \n",
       "4          3       None  Under 1/2 Acre,   \n",
       "5          2       None        0.27 Acres  \n",
       "6          3       None  Under 1/2 Acre,   \n",
       "7          2       None  Under 1/2 Acre,   \n",
       "8          2       None  Under 1/2 Acre,   \n",
       "9          2       None        2.02 Acres  "
      ]
     },
     "execution_count": 15,
     "metadata": {},
     "output_type": "execute_result"
    }
   ],
   "source": [
    "df = pd.DataFrame(l)\n",
    "df"
   ]
  },
  {
   "cell_type": "code",
   "execution_count": 16,
   "id": "6b9e7553",
   "metadata": {},
   "outputs": [],
   "source": [
    "df.to_csv(\"Output.csv\")"
   ]
  },
  {
   "cell_type": "code",
   "execution_count": 17,
   "id": "0c0aa0a4",
   "metadata": {},
   "outputs": [
    {
     "name": "stdout",
     "output_type": "stream",
     "text": [
      "https://pythonizing.github.io/data/real-estate/rock-springs-wy/LCWYROCKSPRINGS/t=0&s=0.html\n",
      "https://pythonizing.github.io/data/real-estate/rock-springs-wy/LCWYROCKSPRINGS/t=0&s=10.html\n",
      "https://pythonizing.github.io/data/real-estate/rock-springs-wy/LCWYROCKSPRINGS/t=0&s=20.html\n"
     ]
    }
   ],
   "source": [
    "# Si en la web cambiamos de página la url resultante es la siguiente en la que con cada cambio de página se incrementa en 10.\n",
    "# Página 1 -> https://pythonizing.github.io/data/real-estate/rock-springs-wy/LCWYROCKSPRINGS/t=0&s=0.html\n",
    "# Página 2 -> https://pythonizing.github.io/data/real-estate/rock-springs-wy/LCWYROCKSPRINGS/t=0&s=10.html\n",
    "\n",
    "base_url = \"https://pythonizing.github.io/data/real-estate/rock-springs-wy/LCWYROCKSPRINGS/t=0&s=\"\n",
    "\n",
    "for page in range(0,30,10):\n",
    "    print(base_url + str(page) + \".html\")\n",
    "    r = requests.get(base_url + str(page) + \".html\")\n",
    "    c = r.content\n",
    "    soup = BeautifulSoup(c, \"html.parser\")\n",
    "    all = soup.find_all(\"div\", {\"class\": \"propertyRow\"})\n",
    "\n",
    "    for item in all:\n",
    "        d={} \n",
    "        \n",
    "        d[\"Address\"] = item.find_all(\"span\", {\"class\": \"propAddressCollapse\"})[0].text\n",
    "        d[\"Locality\"] = item.find_all(\"span\", {\"class\": \"propAddressCollapse\"})[1].text\n",
    "        d[\"Price\"] = item.find(\"h4\", {\"class\": \"propPrice\"}).text.replace(\"\\n\", \"\").replace(\" \", \"\")\n",
    "\n",
    "        try:  # Si no hay info sobre las camas no dará error\n",
    "            d[\"Beds\"] = item.find(\"span\", {\"class\": \"infoBed\"}).text\n",
    "            #print(item.find(\"span\", {\"class\": \"infoBed\"}).find(\"b\").text)  # Otra forma de hacerlo\n",
    "        except:\n",
    "            d[\"Beds\"] = None # No hay info sobre las camas, por lo que imprimo None\n",
    "\n",
    "\n",
    "        try:\n",
    "            d[\"Area\"] = item.find(\"span\", {\"class\": \"infoSqFt\"}).find(\"b\").text\n",
    "        except:\n",
    "            d[\"Area\"] = None\n",
    "\n",
    "\n",
    "        try:\n",
    "            d[\"Full Baths\"] = item.find(\"span\", {\"class\": \"infoValueFullBath\"}).find(\"b\").text\n",
    "        except:\n",
    "            d[\"Full Baths\"] = None\n",
    "\n",
    "\n",
    "        try:\n",
    "            d[\"Half Baths\"] = item.find(\"span\", {\"class\": \"infoValueHalfBath\"}).find(\"b\").text\n",
    "        except:\n",
    "            d[\"Half Baths\"] = None\n",
    "        \n",
    "        for column_group in item.find_all(\"div\", {\"class\": \"columnGroup\"}):\n",
    "            for feature_group, feature_name in zip(column_group.find_all(\"span\", {\"class\": \"featureGroup\"}), column_group.find_all(\"span\", {\"class\": \"featureName\"})):\n",
    "                if \"Lot Size\" in feature_group.text:\n",
    "                    d[\"Lot Size\"] = feature_name.text\n",
    "\n",
    "\n",
    "        l.append(d)\n",
    "\n"
   ]
  }
 ],
 "metadata": {
  "kernelspec": {
   "display_name": "Python 3",
   "language": "python",
   "name": "python3"
  },
  "language_info": {
   "codemirror_mode": {
    "name": "ipython",
    "version": 3
   },
   "file_extension": ".py",
   "mimetype": "text/x-python",
   "name": "python",
   "nbconvert_exporter": "python",
   "pygments_lexer": "ipython3",
   "version": "3.11.9"
  }
 },
 "nbformat": 4,
 "nbformat_minor": 5
}
